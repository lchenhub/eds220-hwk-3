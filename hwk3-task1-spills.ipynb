{
 "cells": [
  {
   "cell_type": "markdown",
   "metadata": {},
   "source": [
    "# Task 1  \n",
    "\n",
    "## General instructions\n",
    "\n",
    "First, update the following text to have a link to your Homework 2 GitHub repository:\n",
    "\n",
    "**UPDATE THIS LINK**\n",
    "https://github.com/lchenhub/eds220-hwk-3\n",
    "\n",
    "Add comments for all your code and commit as needed. Err on the side of commenting and commiting too much for now. Points will be deducted for insufficient comments.\n",
    "\n",
    "\n",
    "## About the data\n",
    "In this task you will use two datsets:\n",
    "\n",
    "**First dataset**\n",
    "\n",
    "The first dataset contains information about [spilling incidents in the state of New York](https://data.ny.gov/Energy-Environment/Spill-Incidents/u44d-k5fk). \n",
    "The data portal has plenty of information. \n",
    "You will find extra information and metadata for this datset in the 'NYSDEC_SpillIncidents_Overview.pdf' and 'NYSDEC_SpillIncidents_DataDictionary.pdf' documents available at the portal.\n",
    "\n",
    "You can access this datset via its URL or download it as a csv. \n",
    "If you chose to access it via URL, it will take a while to load every time you import it. \n",
    "\n",
    "**Second dataset**\n",
    "\n",
    "The second dataset is a [TIGER shapefile from the United States Census Bureau](https://www.census.gov/geographies/mapping-files/time-series/geo/tiger-line-file.2022.html#list-tab-790442341). \n",
    "For this task you will need to **download the 2022 counties (and equivalent) TIGER shapefile**. \n",
    "You can check the [metadata for all the TIGER shapefiles here](https://www.census.gov/programs-surveys/geography/technical-documentation/complete-technical-documentation/tiger-geo-line.html). \n",
    "\n",
    "\n",
    "\n",
    "## File management\n",
    "Make sure all your data files are inside a directory named 'data' inside your repository's directory (working directory)."
   ]
  },
  {
   "cell_type": "markdown",
   "metadata": {},
   "source": [
    "## Datasets description\n",
    "Read the metadata for both datsets and write a brief description about each once. Indicate the date sources and date of access.\n",
    "\n",
    "### Spilling incidents in the state of New York\n",
    "Source: New York State Department of Environmental Conservation\n",
    "Dated: November 8, 2023\n",
    "Date accessed: November 8, 2023\n",
    "\n",
    "Description:  Contains records of spills of petroleum and other hazardous materials. Under State law and regulations, spills that could pollute the lands or waters of the state must be reported by the spiller (and, in some cases, by anyone who has knowledge of the spill). \n",
    "\n",
    "\n",
    "### TIGER shapefile from the US Census Bureau\n",
    "Source: US Census Bureau, Geography Division\n",
    "Dated: 2022\n",
    "Date accessed: November 8, 2023\n",
    "\n",
    "Description:  The TIGER/Line Shapefiles are extracts of selected geographic and cartographic information from the Census Bureau's Master Address File (MAF)/Topologically Integrated Geographic Encoding and Referencing (TIGER) system. The shapefiles include information for the fifty states, the District of Columbia, Puerto Rico, and the Island Areas (American Samoa, the Commonwealth of the Northern Mariana Islands, Guam, and the United States Virgin Islands). The shapefiles include polygon boundaries of geographic areas and features, linear features including roads and hydrography, and point features. \n"
   ]
  },
  {
   "cell_type": "markdown",
   "metadata": {},
   "source": [
    "## FINAL CODE\n",
    "\n",
    "You will use the next cell at the end of the task. Leave it blank for now. "
   ]
  },
  {
   "cell_type": "code",
   "execution_count": null,
   "metadata": {},
   "outputs": [],
   "source": [
    "### ===== FINAL CODE ====="
   ]
  },
  {
   "cell_type": "markdown",
   "metadata": {},
   "source": [
    "<!-- write your description in this markdwon cell -->"
   ]
  },
  {
   "cell_type": "markdown",
   "metadata": {},
   "source": [
    "## Import libraries"
   ]
  },
  {
   "cell_type": "code",
   "execution_count": 92,
   "metadata": {
    "tags": []
   },
   "outputs": [],
   "source": [
    "# import libraries here\n",
    "# import numpy too\n",
    "\n",
    "import geopandas as gpd\n",
    "import pandas as pd\n",
    "import matplotlib.pyplot as plt\n",
    "import numpy as np"
   ]
  },
  {
   "cell_type": "markdown",
   "metadata": {},
   "source": [
    "## Import data \n",
    "In the next cell:\n",
    "\n",
    "- Import the NY spills data as a variable named `spills`. \n",
    "- Import the US counties shapefile as a variable named `counties`.\n"
   ]
  },
  {
   "cell_type": "code",
   "execution_count": 93,
   "metadata": {
    "tags": []
   },
   "outputs": [],
   "source": [
    "# import NY spills data\n",
    "spills = pd.read_csv('data/Spill_Incidents_20231109.csv')"
   ]
  },
  {
   "cell_type": "code",
   "execution_count": 94,
   "metadata": {
    "tags": []
   },
   "outputs": [
    {
     "data": {
      "text/html": [
       "<div>\n",
       "<style scoped>\n",
       "    .dataframe tbody tr th:only-of-type {\n",
       "        vertical-align: middle;\n",
       "    }\n",
       "\n",
       "    .dataframe tbody tr th {\n",
       "        vertical-align: top;\n",
       "    }\n",
       "\n",
       "    .dataframe thead th {\n",
       "        text-align: right;\n",
       "    }\n",
       "</style>\n",
       "<table border=\"1\" class=\"dataframe\">\n",
       "  <thead>\n",
       "    <tr style=\"text-align: right;\">\n",
       "      <th></th>\n",
       "      <th>STATEFP</th>\n",
       "      <th>COUNTYFP</th>\n",
       "      <th>COUNTYNS</th>\n",
       "      <th>GEOID</th>\n",
       "      <th>NAME</th>\n",
       "      <th>NAMELSAD</th>\n",
       "      <th>LSAD</th>\n",
       "      <th>CLASSFP</th>\n",
       "      <th>MTFCC</th>\n",
       "      <th>CSAFP</th>\n",
       "      <th>CBSAFP</th>\n",
       "      <th>METDIVFP</th>\n",
       "      <th>FUNCSTAT</th>\n",
       "      <th>ALAND</th>\n",
       "      <th>AWATER</th>\n",
       "      <th>INTPTLAT</th>\n",
       "      <th>INTPTLON</th>\n",
       "      <th>geometry</th>\n",
       "    </tr>\n",
       "  </thead>\n",
       "  <tbody>\n",
       "    <tr>\n",
       "      <th>0</th>\n",
       "      <td>31</td>\n",
       "      <td>039</td>\n",
       "      <td>00835841</td>\n",
       "      <td>31039</td>\n",
       "      <td>Cuming</td>\n",
       "      <td>Cuming County</td>\n",
       "      <td>06</td>\n",
       "      <td>H1</td>\n",
       "      <td>G4020</td>\n",
       "      <td>None</td>\n",
       "      <td>None</td>\n",
       "      <td>None</td>\n",
       "      <td>A</td>\n",
       "      <td>1477644346</td>\n",
       "      <td>10691216</td>\n",
       "      <td>+41.9158651</td>\n",
       "      <td>-096.7885168</td>\n",
       "      <td>None</td>\n",
       "    </tr>\n",
       "    <tr>\n",
       "      <th>1</th>\n",
       "      <td>53</td>\n",
       "      <td>069</td>\n",
       "      <td>01513275</td>\n",
       "      <td>53069</td>\n",
       "      <td>Wahkiakum</td>\n",
       "      <td>Wahkiakum County</td>\n",
       "      <td>06</td>\n",
       "      <td>H1</td>\n",
       "      <td>G4020</td>\n",
       "      <td>None</td>\n",
       "      <td>None</td>\n",
       "      <td>None</td>\n",
       "      <td>A</td>\n",
       "      <td>680980770</td>\n",
       "      <td>61564427</td>\n",
       "      <td>+46.2946377</td>\n",
       "      <td>-123.4244583</td>\n",
       "      <td>None</td>\n",
       "    </tr>\n",
       "    <tr>\n",
       "      <th>2</th>\n",
       "      <td>35</td>\n",
       "      <td>011</td>\n",
       "      <td>00933054</td>\n",
       "      <td>35011</td>\n",
       "      <td>De Baca</td>\n",
       "      <td>De Baca County</td>\n",
       "      <td>06</td>\n",
       "      <td>H1</td>\n",
       "      <td>G4020</td>\n",
       "      <td>None</td>\n",
       "      <td>None</td>\n",
       "      <td>None</td>\n",
       "      <td>A</td>\n",
       "      <td>6016818946</td>\n",
       "      <td>29090018</td>\n",
       "      <td>+34.3592729</td>\n",
       "      <td>-104.3686961</td>\n",
       "      <td>None</td>\n",
       "    </tr>\n",
       "    <tr>\n",
       "      <th>3</th>\n",
       "      <td>31</td>\n",
       "      <td>109</td>\n",
       "      <td>00835876</td>\n",
       "      <td>31109</td>\n",
       "      <td>Lancaster</td>\n",
       "      <td>Lancaster County</td>\n",
       "      <td>06</td>\n",
       "      <td>H1</td>\n",
       "      <td>G4020</td>\n",
       "      <td>None</td>\n",
       "      <td>None</td>\n",
       "      <td>None</td>\n",
       "      <td>A</td>\n",
       "      <td>2169272978</td>\n",
       "      <td>22847034</td>\n",
       "      <td>+40.7835474</td>\n",
       "      <td>-096.6886584</td>\n",
       "      <td>None</td>\n",
       "    </tr>\n",
       "    <tr>\n",
       "      <th>4</th>\n",
       "      <td>31</td>\n",
       "      <td>129</td>\n",
       "      <td>00835886</td>\n",
       "      <td>31129</td>\n",
       "      <td>Nuckolls</td>\n",
       "      <td>Nuckolls County</td>\n",
       "      <td>06</td>\n",
       "      <td>H1</td>\n",
       "      <td>G4020</td>\n",
       "      <td>None</td>\n",
       "      <td>None</td>\n",
       "      <td>None</td>\n",
       "      <td>A</td>\n",
       "      <td>1489645185</td>\n",
       "      <td>1718484</td>\n",
       "      <td>+40.1764918</td>\n",
       "      <td>-098.0468422</td>\n",
       "      <td>None</td>\n",
       "    </tr>\n",
       "  </tbody>\n",
       "</table>\n",
       "</div>"
      ],
      "text/plain": [
       "  STATEFP COUNTYFP  COUNTYNS  GEOID       NAME          NAMELSAD LSAD CLASSFP  \\\n",
       "0      31      039  00835841  31039     Cuming     Cuming County   06      H1   \n",
       "1      53      069  01513275  53069  Wahkiakum  Wahkiakum County   06      H1   \n",
       "2      35      011  00933054  35011    De Baca    De Baca County   06      H1   \n",
       "3      31      109  00835876  31109  Lancaster  Lancaster County   06      H1   \n",
       "4      31      129  00835886  31129   Nuckolls   Nuckolls County   06      H1   \n",
       "\n",
       "   MTFCC CSAFP CBSAFP METDIVFP FUNCSTAT       ALAND    AWATER     INTPTLAT  \\\n",
       "0  G4020  None   None     None        A  1477644346  10691216  +41.9158651   \n",
       "1  G4020  None   None     None        A   680980770  61564427  +46.2946377   \n",
       "2  G4020  None   None     None        A  6016818946  29090018  +34.3592729   \n",
       "3  G4020  None   None     None        A  2169272978  22847034  +40.7835474   \n",
       "4  G4020  None   None     None        A  1489645185   1718484  +40.1764918   \n",
       "\n",
       "       INTPTLON geometry  \n",
       "0  -096.7885168     None  \n",
       "1  -123.4244583     None  \n",
       "2  -104.3686961     None  \n",
       "3  -096.6886584     None  \n",
       "4  -098.0468422     None  "
      ]
     },
     "execution_count": 94,
     "metadata": {},
     "output_type": "execute_result"
    }
   ],
   "source": [
    "#import counties data\n",
    "counties = gpd.read_file('data/tl_2022_us_county/')\n",
    "counties.head()"
   ]
  },
  {
   "cell_type": "code",
   "execution_count": 95,
   "metadata": {
    "tags": []
   },
   "outputs": [
    {
     "data": {
      "text/html": [
       "<div>\n",
       "<style scoped>\n",
       "    .dataframe tbody tr th:only-of-type {\n",
       "        vertical-align: middle;\n",
       "    }\n",
       "\n",
       "    .dataframe tbody tr th {\n",
       "        vertical-align: top;\n",
       "    }\n",
       "\n",
       "    .dataframe thead th {\n",
       "        text-align: right;\n",
       "    }\n",
       "</style>\n",
       "<table border=\"1\" class=\"dataframe\">\n",
       "  <thead>\n",
       "    <tr style=\"text-align: right;\">\n",
       "      <th></th>\n",
       "      <th>Spill Number</th>\n",
       "      <th>Program Facility Name</th>\n",
       "      <th>Street 1</th>\n",
       "      <th>Street 2</th>\n",
       "      <th>Locality</th>\n",
       "      <th>County</th>\n",
       "      <th>ZIP Code</th>\n",
       "      <th>SWIS Code</th>\n",
       "      <th>DEC Region</th>\n",
       "      <th>Spill Date</th>\n",
       "      <th>Received Date</th>\n",
       "      <th>Contributing Factor</th>\n",
       "      <th>Waterbody</th>\n",
       "      <th>Source</th>\n",
       "      <th>Close Date</th>\n",
       "      <th>Material Name</th>\n",
       "      <th>Material Family</th>\n",
       "      <th>Quantity</th>\n",
       "      <th>Units</th>\n",
       "      <th>Recovered</th>\n",
       "    </tr>\n",
       "  </thead>\n",
       "  <tbody>\n",
       "    <tr>\n",
       "      <th>0</th>\n",
       "      <td>107132</td>\n",
       "      <td>MH 864</td>\n",
       "      <td>RT 119/MILLWOOD RD</td>\n",
       "      <td>NaN</td>\n",
       "      <td>ELMSFORD</td>\n",
       "      <td>Westchester</td>\n",
       "      <td>NaN</td>\n",
       "      <td>6000</td>\n",
       "      <td>3</td>\n",
       "      <td>10/10/2001</td>\n",
       "      <td>10/10/2001</td>\n",
       "      <td>Unknown</td>\n",
       "      <td>NaN</td>\n",
       "      <td>Unknown</td>\n",
       "      <td>10/15/2001</td>\n",
       "      <td>unknown material</td>\n",
       "      <td>Other</td>\n",
       "      <td>10.0</td>\n",
       "      <td>Gallons</td>\n",
       "      <td>0.0</td>\n",
       "    </tr>\n",
       "    <tr>\n",
       "      <th>1</th>\n",
       "      <td>405586</td>\n",
       "      <td>BOWRY BAY</td>\n",
       "      <td>WATER POLL CONTROL</td>\n",
       "      <td>NaN</td>\n",
       "      <td>QUEENS</td>\n",
       "      <td>Queens</td>\n",
       "      <td>NaN</td>\n",
       "      <td>4101</td>\n",
       "      <td>2</td>\n",
       "      <td>08/21/2004</td>\n",
       "      <td>08/21/2004</td>\n",
       "      <td>Other</td>\n",
       "      <td>EAST RIVER</td>\n",
       "      <td>Unknown</td>\n",
       "      <td>09/17/2004</td>\n",
       "      <td>raw sewage</td>\n",
       "      <td>Other</td>\n",
       "      <td>0.0</td>\n",
       "      <td>Pounds</td>\n",
       "      <td>0.0</td>\n",
       "    </tr>\n",
       "    <tr>\n",
       "      <th>2</th>\n",
       "      <td>405586</td>\n",
       "      <td>BOWRY BAY</td>\n",
       "      <td>WATER POLL CONTROL</td>\n",
       "      <td>NaN</td>\n",
       "      <td>QUEENS</td>\n",
       "      <td>Queens</td>\n",
       "      <td>NaN</td>\n",
       "      <td>4101</td>\n",
       "      <td>2</td>\n",
       "      <td>08/21/2004</td>\n",
       "      <td>08/21/2004</td>\n",
       "      <td>Other</td>\n",
       "      <td>EAST RIVER</td>\n",
       "      <td>Unknown</td>\n",
       "      <td>09/17/2004</td>\n",
       "      <td>raw sewage</td>\n",
       "      <td>Other</td>\n",
       "      <td>0.0</td>\n",
       "      <td>NaN</td>\n",
       "      <td>0.0</td>\n",
       "    </tr>\n",
       "    <tr>\n",
       "      <th>3</th>\n",
       "      <td>204667</td>\n",
       "      <td>POLE 16091</td>\n",
       "      <td>GRACE AVE/BURKE AVE</td>\n",
       "      <td>NaN</td>\n",
       "      <td>BRONX</td>\n",
       "      <td>Bronx</td>\n",
       "      <td>NaN</td>\n",
       "      <td>301</td>\n",
       "      <td>2</td>\n",
       "      <td>08/02/2002</td>\n",
       "      <td>08/02/2002</td>\n",
       "      <td>Equipment Failure</td>\n",
       "      <td>NaN</td>\n",
       "      <td>Commercial/Industrial</td>\n",
       "      <td>10/28/2002</td>\n",
       "      <td>transformer oil</td>\n",
       "      <td>Petroleum</td>\n",
       "      <td>1.0</td>\n",
       "      <td>Gallons</td>\n",
       "      <td>0.0</td>\n",
       "    </tr>\n",
       "    <tr>\n",
       "      <th>4</th>\n",
       "      <td>210559</td>\n",
       "      <td>POLE ON</td>\n",
       "      <td>FERDALE LOMIS RD / RT 52</td>\n",
       "      <td>NaN</td>\n",
       "      <td>LIBERTY</td>\n",
       "      <td>Sullivan</td>\n",
       "      <td>NaN</td>\n",
       "      <td>5336</td>\n",
       "      <td>3</td>\n",
       "      <td>01/20/2003</td>\n",
       "      <td>01/20/2003</td>\n",
       "      <td>Traffic Accident</td>\n",
       "      <td>NaN</td>\n",
       "      <td>Commercial/Industrial</td>\n",
       "      <td>01/22/2003</td>\n",
       "      <td>transformer oil</td>\n",
       "      <td>Petroleum</td>\n",
       "      <td>6.0</td>\n",
       "      <td>Gallons</td>\n",
       "      <td>6.0</td>\n",
       "    </tr>\n",
       "    <tr>\n",
       "      <th>...</th>\n",
       "      <td>...</td>\n",
       "      <td>...</td>\n",
       "      <td>...</td>\n",
       "      <td>...</td>\n",
       "      <td>...</td>\n",
       "      <td>...</td>\n",
       "      <td>...</td>\n",
       "      <td>...</td>\n",
       "      <td>...</td>\n",
       "      <td>...</td>\n",
       "      <td>...</td>\n",
       "      <td>...</td>\n",
       "      <td>...</td>\n",
       "      <td>...</td>\n",
       "      <td>...</td>\n",
       "      <td>...</td>\n",
       "      <td>...</td>\n",
       "      <td>...</td>\n",
       "      <td>...</td>\n",
       "      <td>...</td>\n",
       "    </tr>\n",
       "    <tr>\n",
       "      <th>542355</th>\n",
       "      <td>9904003</td>\n",
       "      <td>`-NYCT</td>\n",
       "      <td>5TH AND WEST 50 ST</td>\n",
       "      <td>NaN</td>\n",
       "      <td>MANHATTAN</td>\n",
       "      <td>New York</td>\n",
       "      <td>NaN</td>\n",
       "      <td>3101</td>\n",
       "      <td>2</td>\n",
       "      <td>07/06/1999</td>\n",
       "      <td>07/06/1999</td>\n",
       "      <td>Housekeeping</td>\n",
       "      <td>NaN</td>\n",
       "      <td>Commercial Vehicle</td>\n",
       "      <td>03/03/2009</td>\n",
       "      <td>diesel</td>\n",
       "      <td>Petroleum</td>\n",
       "      <td>20.0</td>\n",
       "      <td>Gallons</td>\n",
       "      <td>0.0</td>\n",
       "    </tr>\n",
       "    <tr>\n",
       "      <th>542356</th>\n",
       "      <td>304463</td>\n",
       "      <td>`-NYCT</td>\n",
       "      <td>35TH ST AND 11TH AVE</td>\n",
       "      <td>NaN</td>\n",
       "      <td>MANHATTAN</td>\n",
       "      <td>New York</td>\n",
       "      <td>NaN</td>\n",
       "      <td>3101</td>\n",
       "      <td>2</td>\n",
       "      <td>07/28/2003</td>\n",
       "      <td>07/28/2003</td>\n",
       "      <td>Unknown</td>\n",
       "      <td>NaN</td>\n",
       "      <td>Unknown</td>\n",
       "      <td>01/08/2014</td>\n",
       "      <td>unknown petroleum</td>\n",
       "      <td>Petroleum</td>\n",
       "      <td>0.0</td>\n",
       "      <td>Gallons</td>\n",
       "      <td>0.0</td>\n",
       "    </tr>\n",
       "    <tr>\n",
       "      <th>542357</th>\n",
       "      <td>9213322</td>\n",
       "      <td>`-NYCT / 146 ST</td>\n",
       "      <td>721 LENOX AVE</td>\n",
       "      <td>NaN</td>\n",
       "      <td>MANHATTAN</td>\n",
       "      <td>New York</td>\n",
       "      <td>NaN</td>\n",
       "      <td>3101</td>\n",
       "      <td>2</td>\n",
       "      <td>03/02/1993</td>\n",
       "      <td>03/02/1993</td>\n",
       "      <td>Tank Overfill</td>\n",
       "      <td>NaN</td>\n",
       "      <td>Commercial/Industrial</td>\n",
       "      <td>02/10/2003</td>\n",
       "      <td>#2 fuel oil</td>\n",
       "      <td>Petroleum</td>\n",
       "      <td>200.0</td>\n",
       "      <td>Gallons</td>\n",
       "      <td>0.0</td>\n",
       "    </tr>\n",
       "    <tr>\n",
       "      <th>542358</th>\n",
       "      <td>8909580</td>\n",
       "      <td>`-NYCT BUS DEPOT - S I</td>\n",
       "      <td>CASTLETON AVE @ RECTOR ST</td>\n",
       "      <td>NaN</td>\n",
       "      <td>STATEN ISLAND</td>\n",
       "      <td>Richmond</td>\n",
       "      <td>NaN</td>\n",
       "      <td>4301</td>\n",
       "      <td>2</td>\n",
       "      <td>01/05/1990</td>\n",
       "      <td>01/05/1990</td>\n",
       "      <td>Abandoned Drums</td>\n",
       "      <td>NaN</td>\n",
       "      <td>Commercial/Industrial</td>\n",
       "      <td>01/05/1990</td>\n",
       "      <td>unknown petroleum</td>\n",
       "      <td>Petroleum</td>\n",
       "      <td>0.0</td>\n",
       "      <td>NaN</td>\n",
       "      <td>0.0</td>\n",
       "    </tr>\n",
       "    <tr>\n",
       "      <th>542359</th>\n",
       "      <td>102768</td>\n",
       "      <td>`-RAVENSWOOD</td>\n",
       "      <td>3854 VERON BLVD</td>\n",
       "      <td>NaN</td>\n",
       "      <td>LONG ISLAND CITY</td>\n",
       "      <td>Queens</td>\n",
       "      <td>NaN</td>\n",
       "      <td>4101</td>\n",
       "      <td>2</td>\n",
       "      <td>06/13/2001</td>\n",
       "      <td>06/13/2001</td>\n",
       "      <td>Unknown</td>\n",
       "      <td>EAST RIVER</td>\n",
       "      <td>Unknown</td>\n",
       "      <td>05/07/2013</td>\n",
       "      <td>unknown petroleum</td>\n",
       "      <td>Petroleum</td>\n",
       "      <td>0.0</td>\n",
       "      <td>Gallons</td>\n",
       "      <td>0.0</td>\n",
       "    </tr>\n",
       "  </tbody>\n",
       "</table>\n",
       "<p>542360 rows × 20 columns</p>\n",
       "</div>"
      ],
      "text/plain": [
       "        Spill Number   Program Facility Name                   Street 1  \\\n",
       "0             107132                  MH 864         RT 119/MILLWOOD RD   \n",
       "1             405586               BOWRY BAY         WATER POLL CONTROL   \n",
       "2             405586               BOWRY BAY         WATER POLL CONTROL   \n",
       "3             204667              POLE 16091        GRACE AVE/BURKE AVE   \n",
       "4             210559                 POLE ON   FERDALE LOMIS RD / RT 52   \n",
       "...              ...                     ...                        ...   \n",
       "542355       9904003                  `-NYCT         5TH AND WEST 50 ST   \n",
       "542356        304463                  `-NYCT       35TH ST AND 11TH AVE   \n",
       "542357       9213322         `-NYCT / 146 ST              721 LENOX AVE   \n",
       "542358       8909580  `-NYCT BUS DEPOT - S I  CASTLETON AVE @ RECTOR ST   \n",
       "542359        102768            `-RAVENSWOOD            3854 VERON BLVD   \n",
       "\n",
       "       Street 2          Locality       County ZIP Code  SWIS Code  \\\n",
       "0           NaN          ELMSFORD  Westchester      NaN       6000   \n",
       "1           NaN            QUEENS       Queens      NaN       4101   \n",
       "2           NaN            QUEENS       Queens      NaN       4101   \n",
       "3           NaN             BRONX        Bronx      NaN        301   \n",
       "4           NaN           LIBERTY     Sullivan      NaN       5336   \n",
       "...         ...               ...          ...      ...        ...   \n",
       "542355      NaN         MANHATTAN     New York      NaN       3101   \n",
       "542356      NaN         MANHATTAN     New York      NaN       3101   \n",
       "542357      NaN         MANHATTAN     New York      NaN       3101   \n",
       "542358      NaN     STATEN ISLAND     Richmond      NaN       4301   \n",
       "542359      NaN  LONG ISLAND CITY       Queens      NaN       4101   \n",
       "\n",
       "        DEC Region  Spill Date Received Date Contributing Factor   Waterbody  \\\n",
       "0                3  10/10/2001    10/10/2001             Unknown         NaN   \n",
       "1                2  08/21/2004    08/21/2004               Other  EAST RIVER   \n",
       "2                2  08/21/2004    08/21/2004               Other  EAST RIVER   \n",
       "3                2  08/02/2002    08/02/2002   Equipment Failure         NaN   \n",
       "4                3  01/20/2003    01/20/2003    Traffic Accident         NaN   \n",
       "...            ...         ...           ...                 ...         ...   \n",
       "542355           2  07/06/1999    07/06/1999        Housekeeping         NaN   \n",
       "542356           2  07/28/2003    07/28/2003             Unknown         NaN   \n",
       "542357           2  03/02/1993    03/02/1993       Tank Overfill         NaN   \n",
       "542358           2  01/05/1990    01/05/1990     Abandoned Drums         NaN   \n",
       "542359           2  06/13/2001    06/13/2001             Unknown  EAST RIVER   \n",
       "\n",
       "                       Source  Close Date      Material Name Material Family  \\\n",
       "0                     Unknown  10/15/2001   unknown material           Other   \n",
       "1                     Unknown  09/17/2004         raw sewage           Other   \n",
       "2                     Unknown  09/17/2004         raw sewage           Other   \n",
       "3       Commercial/Industrial  10/28/2002    transformer oil       Petroleum   \n",
       "4       Commercial/Industrial  01/22/2003    transformer oil       Petroleum   \n",
       "...                       ...         ...                ...             ...   \n",
       "542355     Commercial Vehicle  03/03/2009             diesel       Petroleum   \n",
       "542356                Unknown  01/08/2014  unknown petroleum       Petroleum   \n",
       "542357  Commercial/Industrial  02/10/2003        #2 fuel oil       Petroleum   \n",
       "542358  Commercial/Industrial  01/05/1990  unknown petroleum       Petroleum   \n",
       "542359                Unknown  05/07/2013  unknown petroleum       Petroleum   \n",
       "\n",
       "        Quantity    Units  Recovered  \n",
       "0           10.0  Gallons        0.0  \n",
       "1            0.0   Pounds        0.0  \n",
       "2            0.0      NaN        0.0  \n",
       "3            1.0  Gallons        0.0  \n",
       "4            6.0  Gallons        6.0  \n",
       "...          ...      ...        ...  \n",
       "542355      20.0  Gallons        0.0  \n",
       "542356       0.0  Gallons        0.0  \n",
       "542357     200.0  Gallons        0.0  \n",
       "542358       0.0      NaN        0.0  \n",
       "542359       0.0  Gallons        0.0  \n",
       "\n",
       "[542360 rows x 20 columns]"
      ]
     },
     "execution_count": 95,
     "metadata": {},
     "output_type": "execute_result"
    }
   ],
   "source": [
    "#spills"
   ]
  },
  {
   "cell_type": "markdown",
   "metadata": {},
   "source": [
    "## Prepare spills data\n",
    "\n",
    "This section refers to the `spills` dataframe. \n",
    "Check the outputs carefully, they will give you context about the next exercises.\n",
    "\n",
    "### Exploration\n",
    "\n",
    "In the next cells:\n",
    "\n",
    "1. Check the dataframe's head\n",
    "2. Simplify column names as needed\n",
    "3. Check the data types of the columns\n",
    "4. Check the unique values in the `material_family` column\n",
    "5. Check the unique values in the `county` column\n",
    "\n",
    "You can add any other cells of preliminary data exploration."
   ]
  },
  {
   "cell_type": "code",
   "execution_count": 96,
   "metadata": {
    "tags": []
   },
   "outputs": [],
   "source": [
    "#update pandas display options\n",
    "\n",
    "# display all column when looking at dataframes\n",
    "pd.set_option(\"display.max.columns\", None)"
   ]
  },
  {
   "cell_type": "code",
   "execution_count": 97,
   "metadata": {
    "tags": []
   },
   "outputs": [
    {
     "data": {
      "text/html": [
       "<div>\n",
       "<style scoped>\n",
       "    .dataframe tbody tr th:only-of-type {\n",
       "        vertical-align: middle;\n",
       "    }\n",
       "\n",
       "    .dataframe tbody tr th {\n",
       "        vertical-align: top;\n",
       "    }\n",
       "\n",
       "    .dataframe thead th {\n",
       "        text-align: right;\n",
       "    }\n",
       "</style>\n",
       "<table border=\"1\" class=\"dataframe\">\n",
       "  <thead>\n",
       "    <tr style=\"text-align: right;\">\n",
       "      <th></th>\n",
       "      <th>Spill Number</th>\n",
       "      <th>Program Facility Name</th>\n",
       "      <th>Street 1</th>\n",
       "      <th>Street 2</th>\n",
       "      <th>Locality</th>\n",
       "      <th>County</th>\n",
       "      <th>ZIP Code</th>\n",
       "      <th>SWIS Code</th>\n",
       "      <th>DEC Region</th>\n",
       "      <th>Spill Date</th>\n",
       "      <th>Received Date</th>\n",
       "      <th>Contributing Factor</th>\n",
       "      <th>Waterbody</th>\n",
       "      <th>Source</th>\n",
       "      <th>Close Date</th>\n",
       "      <th>Material Name</th>\n",
       "      <th>Material Family</th>\n",
       "      <th>Quantity</th>\n",
       "      <th>Units</th>\n",
       "      <th>Recovered</th>\n",
       "    </tr>\n",
       "  </thead>\n",
       "  <tbody>\n",
       "    <tr>\n",
       "      <th>0</th>\n",
       "      <td>107132</td>\n",
       "      <td>MH 864</td>\n",
       "      <td>RT 119/MILLWOOD RD</td>\n",
       "      <td>NaN</td>\n",
       "      <td>ELMSFORD</td>\n",
       "      <td>Westchester</td>\n",
       "      <td>NaN</td>\n",
       "      <td>6000</td>\n",
       "      <td>3</td>\n",
       "      <td>10/10/2001</td>\n",
       "      <td>10/10/2001</td>\n",
       "      <td>Unknown</td>\n",
       "      <td>NaN</td>\n",
       "      <td>Unknown</td>\n",
       "      <td>10/15/2001</td>\n",
       "      <td>unknown material</td>\n",
       "      <td>Other</td>\n",
       "      <td>10.0</td>\n",
       "      <td>Gallons</td>\n",
       "      <td>0.0</td>\n",
       "    </tr>\n",
       "    <tr>\n",
       "      <th>1</th>\n",
       "      <td>405586</td>\n",
       "      <td>BOWRY BAY</td>\n",
       "      <td>WATER POLL CONTROL</td>\n",
       "      <td>NaN</td>\n",
       "      <td>QUEENS</td>\n",
       "      <td>Queens</td>\n",
       "      <td>NaN</td>\n",
       "      <td>4101</td>\n",
       "      <td>2</td>\n",
       "      <td>08/21/2004</td>\n",
       "      <td>08/21/2004</td>\n",
       "      <td>Other</td>\n",
       "      <td>EAST RIVER</td>\n",
       "      <td>Unknown</td>\n",
       "      <td>09/17/2004</td>\n",
       "      <td>raw sewage</td>\n",
       "      <td>Other</td>\n",
       "      <td>0.0</td>\n",
       "      <td>Pounds</td>\n",
       "      <td>0.0</td>\n",
       "    </tr>\n",
       "    <tr>\n",
       "      <th>2</th>\n",
       "      <td>405586</td>\n",
       "      <td>BOWRY BAY</td>\n",
       "      <td>WATER POLL CONTROL</td>\n",
       "      <td>NaN</td>\n",
       "      <td>QUEENS</td>\n",
       "      <td>Queens</td>\n",
       "      <td>NaN</td>\n",
       "      <td>4101</td>\n",
       "      <td>2</td>\n",
       "      <td>08/21/2004</td>\n",
       "      <td>08/21/2004</td>\n",
       "      <td>Other</td>\n",
       "      <td>EAST RIVER</td>\n",
       "      <td>Unknown</td>\n",
       "      <td>09/17/2004</td>\n",
       "      <td>raw sewage</td>\n",
       "      <td>Other</td>\n",
       "      <td>0.0</td>\n",
       "      <td>NaN</td>\n",
       "      <td>0.0</td>\n",
       "    </tr>\n",
       "  </tbody>\n",
       "</table>\n",
       "</div>"
      ],
      "text/plain": [
       "   Spill Number Program Facility Name            Street 1 Street 2  Locality  \\\n",
       "0        107132                MH 864  RT 119/MILLWOOD RD      NaN  ELMSFORD   \n",
       "1        405586             BOWRY BAY  WATER POLL CONTROL      NaN    QUEENS   \n",
       "2        405586             BOWRY BAY  WATER POLL CONTROL      NaN    QUEENS   \n",
       "\n",
       "        County ZIP Code  SWIS Code  DEC Region  Spill Date Received Date  \\\n",
       "0  Westchester      NaN       6000           3  10/10/2001    10/10/2001   \n",
       "1       Queens      NaN       4101           2  08/21/2004    08/21/2004   \n",
       "2       Queens      NaN       4101           2  08/21/2004    08/21/2004   \n",
       "\n",
       "  Contributing Factor   Waterbody   Source  Close Date     Material Name  \\\n",
       "0             Unknown         NaN  Unknown  10/15/2001  unknown material   \n",
       "1               Other  EAST RIVER  Unknown  09/17/2004        raw sewage   \n",
       "2               Other  EAST RIVER  Unknown  09/17/2004        raw sewage   \n",
       "\n",
       "  Material Family  Quantity    Units  Recovered  \n",
       "0           Other      10.0  Gallons        0.0  \n",
       "1           Other       0.0   Pounds        0.0  \n",
       "2           Other       0.0      NaN        0.0  "
      ]
     },
     "execution_count": 97,
     "metadata": {},
     "output_type": "execute_result"
    }
   ],
   "source": [
    "# 1. Use .head() to check 'spills' head\n",
    "spills.head(3)"
   ]
  },
  {
   "cell_type": "code",
   "execution_count": 98,
   "metadata": {
    "tags": []
   },
   "outputs": [],
   "source": [
    "# 2. update column names to small caps\n",
    "spills.columns = spills.columns.str.lower()"
   ]
  },
  {
   "cell_type": "code",
   "execution_count": 99,
   "metadata": {
    "tags": []
   },
   "outputs": [
    {
     "data": {
      "text/plain": [
       "spill number               int64\n",
       "program facility name     object\n",
       "street 1                  object\n",
       "street 2                  object\n",
       "locality                  object\n",
       "county                    object\n",
       "zip code                  object\n",
       "swis code                  int64\n",
       "dec region                 int64\n",
       "spill date                object\n",
       "received date             object\n",
       "contributing factor       object\n",
       "waterbody                 object\n",
       "source                    object\n",
       "close date                object\n",
       "material name             object\n",
       "material family           object\n",
       "quantity                 float64\n",
       "units                     object\n",
       "recovered                float64\n",
       "dtype: object"
      ]
     },
     "execution_count": 99,
     "metadata": {},
     "output_type": "execute_result"
    }
   ],
   "source": [
    "# 3. check data types of columns using .dtypes\n",
    "spills.dtypes"
   ]
  },
  {
   "cell_type": "code",
   "execution_count": 100,
   "metadata": {
    "tags": []
   },
   "outputs": [
    {
     "name": "stdout",
     "output_type": "stream",
     "text": [
      "['Other' 'Petroleum' 'Hazardous Material' 'Oxygenates']\n"
     ]
    }
   ],
   "source": [
    "# 4. Check the unique values in the material_family column using .unique()\n",
    "\n",
    "print(spills['material family'].unique())"
   ]
  },
  {
   "cell_type": "code",
   "execution_count": 101,
   "metadata": {
    "tags": []
   },
   "outputs": [
    {
     "name": "stdout",
     "output_type": "stream",
     "text": [
      "['Westchester' 'Queens' 'Bronx' 'Sullivan' 'Cortland' 'New York' 'Ulster'\n",
      " 'Kings' 'Orange' 'Dutchess' 'Onondaga' 'Saratoga' 'Cayuga' 'Oswego'\n",
      " 'Warren' 'Niagara' 'Rockland' 'Nassau' 'Jefferson' 'Schenectady' 'Albany'\n",
      " 'Monroe' 'St Lawrence' 'Richmond' 'Clinton' 'Lewis' 'Essex' 'Chenango'\n",
      " 'Erie' 'Livingston' 'Wayne' 'Suffolk' 'Orleans' 'Ontario' 'Genesee'\n",
      " 'Otsego' 'Tompkins' 'Madison' 'Chemung' 'Seneca' 'Oneida' 'Broome'\n",
      " 'Hamilton' 'Washington' 'Schuyler' 'Franklin' 'Columbia' 'Fulton'\n",
      " 'Herkimer' 'Schoharie' 'Rensselaer' 'Montgomery' 'Putnam' 'Delaware'\n",
      " 'New Jersey - Region 2' 'Steuben' 'Tioga' 'Chautauqua' 'Cattaraugus'\n",
      " 'Wyoming' 'Yates' 'Greene' 'Pennsylvania - Region 9' 'Allegany'\n",
      " 'New Jersey - Region 3 (N)' 'Cattaraugus Indian Reservation'\n",
      " 'New Jersey - Region 3 (T)' 'Canada - Region 6' 'Canada - Region 9'\n",
      " 'Pennsylvania - Region 8' 'Vermont - Region 5 (R)' 'Vermont - Region 4'\n",
      " 'Connecticut - Region 3 (N)' 'Pennsylvania - Region 3'\n",
      " 'Tuscarora Indian Reservation' 'Connecticut - Region 4'\n",
      " 'Connecticut - Region 3 (T)' 'Massachusetts - Region 4'\n",
      " 'Connecticut - Region 1' 'Canada - Region 8'\n",
      " 'Oil Springs Indian Reservation' 'Canada - Region 5'\n",
      " 'Poospatuck Indian Reservation' 'Onondaga Indian Reservation'\n",
      " 'St. Regis Indian Reservation - Region 5' 'Pennsylvania - Region 7'\n",
      " 'Shinnecock Indian Reservation']\n"
     ]
    }
   ],
   "source": [
    "# 5. Check the unique values in the county column using .unique()\n",
    "\n",
    "print(spills['county'].unique())"
   ]
  },
  {
   "cell_type": "markdown",
   "metadata": {},
   "source": [
    "### Data selection\n",
    "\n",
    "1. Select data about petroleum spills that took place between January 1st 2023, and October 31st (including both dates), 2023. Store it in a variable named `petr_23`. The data selection should occur in a single line. You may add cells if you needed."
   ]
  },
  {
   "cell_type": "code",
   "execution_count": 102,
   "metadata": {
    "tags": []
   },
   "outputs": [],
   "source": [
    "# Convert the date to datetime64\n",
    "spills['spill date'] = pd.to_datetime(spills['spill date'])"
   ]
  },
  {
   "cell_type": "code",
   "execution_count": 103,
   "metadata": {
    "tags": []
   },
   "outputs": [],
   "source": [
    "# select data between Jan 1st, 2023 and Oct 31, 2023 and name as petr_23\n",
    "\n",
    "petr_23 = spills.loc[(spills['material family'] == 'Petroleum') & (spills['spill date'] > '01/01/2023') & (spills['spill date'] < '10/31/2023')]"
   ]
  },
  {
   "cell_type": "markdown",
   "metadata": {},
   "source": [
    "2. Verify that `petr_23` only has data for petroleum spills "
   ]
  },
  {
   "cell_type": "code",
   "execution_count": 104,
   "metadata": {
    "tags": []
   },
   "outputs": [
    {
     "data": {
      "text/plain": [
       "array(['Petroleum'], dtype=object)"
      ]
     },
     "execution_count": 104,
     "metadata": {},
     "output_type": "execute_result"
    }
   ],
   "source": [
    "# print unique values of petr_23 to check that only petroleum spills are included\n",
    "\n",
    "petr_23['material family'].unique() "
   ]
  },
  {
   "cell_type": "markdown",
   "metadata": {},
   "source": [
    "3. Verify that `petr_23` only has data for 2023. \n",
    "HINT: if you converted the `spill_date` column to datetime, you can use `petr_23.spill_date.dt.year.unique()`"
   ]
  },
  {
   "cell_type": "code",
   "execution_count": 105,
   "metadata": {
    "tags": []
   },
   "outputs": [
    {
     "data": {
      "text/plain": [
       "array([2023])"
      ]
     },
     "execution_count": 105,
     "metadata": {},
     "output_type": "execute_result"
    }
   ],
   "source": [
    "# verify that only 2023 data has been included\n",
    "\n",
    "petr_23['spill date'].dt.year.unique()"
   ]
  },
  {
   "cell_type": "markdown",
   "metadata": {},
   "source": [
    "4. Verify that `petr_23` only has data from January to October. "
   ]
  },
  {
   "cell_type": "code",
   "execution_count": 106,
   "metadata": {
    "tags": []
   },
   "outputs": [
    {
     "data": {
      "text/plain": [
       "array([ 6,  8,  9,  7,  1,  2,  3, 10,  5,  4])"
      ]
     },
     "execution_count": 106,
     "metadata": {},
     "output_type": "execute_result"
    }
   ],
   "source": [
    "# verify that only Jan to Oct 2023 has been included\n",
    "\n",
    "petr_23['spill date'].dt.month.unique() #confirmed"
   ]
  },
  {
   "cell_type": "markdown",
   "metadata": {},
   "source": [
    "### Data aggregation\n",
    "\n",
    "Create new dataframe named `spills_per_county` with the number of petroleum spills per county from January to October 2023 (i.e. use the `petr_23` dataframe).\n",
    "\n",
    "The resulting `spills_per_county` dataframe must be as follows:\n",
    "\n",
    "- Index: integer numbers starting from 0\n",
    "- Column one: county names, column name = `county`\n",
    "- Column two: number of petroleum spills per county in 2023, column name = `n_spills`\n",
    "\n",
    "You may add cells if you needed."
   ]
  },
  {
   "cell_type": "code",
   "execution_count": 107,
   "metadata": {
    "tags": []
   },
   "outputs": [
    {
     "data": {
      "text/html": [
       "<div>\n",
       "<style scoped>\n",
       "    .dataframe tbody tr th:only-of-type {\n",
       "        vertical-align: middle;\n",
       "    }\n",
       "\n",
       "    .dataframe tbody tr th {\n",
       "        vertical-align: top;\n",
       "    }\n",
       "\n",
       "    .dataframe thead th {\n",
       "        text-align: right;\n",
       "    }\n",
       "</style>\n",
       "<table border=\"1\" class=\"dataframe\">\n",
       "  <thead>\n",
       "    <tr style=\"text-align: right;\">\n",
       "      <th></th>\n",
       "      <th>spill number</th>\n",
       "      <th>program facility name</th>\n",
       "      <th>street 1</th>\n",
       "      <th>street 2</th>\n",
       "      <th>locality</th>\n",
       "      <th>county</th>\n",
       "      <th>zip code</th>\n",
       "      <th>swis code</th>\n",
       "      <th>dec region</th>\n",
       "      <th>spill date</th>\n",
       "      <th>received date</th>\n",
       "      <th>contributing factor</th>\n",
       "      <th>waterbody</th>\n",
       "      <th>source</th>\n",
       "      <th>close date</th>\n",
       "      <th>material name</th>\n",
       "      <th>material family</th>\n",
       "      <th>quantity</th>\n",
       "      <th>units</th>\n",
       "      <th>recovered</th>\n",
       "    </tr>\n",
       "  </thead>\n",
       "  <tbody>\n",
       "    <tr>\n",
       "      <th>0</th>\n",
       "      <td>2301892</td>\n",
       "      <td>*** TEST SPILL ***</td>\n",
       "      <td>*** TEST SPILL ***</td>\n",
       "      <td>NaN</td>\n",
       "      <td>*** TEST SPILL ***</td>\n",
       "      <td>Onondaga</td>\n",
       "      <td>00000</td>\n",
       "      <td>3415</td>\n",
       "      <td>7</td>\n",
       "      <td>2023-06-06</td>\n",
       "      <td>06/06/2023</td>\n",
       "      <td>Tank Test Failure</td>\n",
       "      <td>NaN</td>\n",
       "      <td>Unknown</td>\n",
       "      <td>07/12/2023</td>\n",
       "      <td>#2 fuel oil</td>\n",
       "      <td>Petroleum</td>\n",
       "      <td>0.0</td>\n",
       "      <td>Gallons</td>\n",
       "      <td>0.0</td>\n",
       "    </tr>\n",
       "    <tr>\n",
       "      <th>1</th>\n",
       "      <td>2301892</td>\n",
       "      <td>*** TEST SPILL ***</td>\n",
       "      <td>*** TEST SPILL ***</td>\n",
       "      <td>NaN</td>\n",
       "      <td>*** TEST SPILL ***</td>\n",
       "      <td>Onondaga</td>\n",
       "      <td>00000</td>\n",
       "      <td>3415</td>\n",
       "      <td>7</td>\n",
       "      <td>2023-06-06</td>\n",
       "      <td>06/06/2023</td>\n",
       "      <td>Tank Test Failure</td>\n",
       "      <td>NaN</td>\n",
       "      <td>Unknown</td>\n",
       "      <td>07/12/2023</td>\n",
       "      <td>used oil (heating, on-site consumption)</td>\n",
       "      <td>Petroleum</td>\n",
       "      <td>0.0</td>\n",
       "      <td>NaN</td>\n",
       "      <td>0.0</td>\n",
       "    </tr>\n",
       "    <tr>\n",
       "      <th>2</th>\n",
       "      <td>2301892</td>\n",
       "      <td>*** TEST SPILL ***</td>\n",
       "      <td>*** TEST SPILL ***</td>\n",
       "      <td>NaN</td>\n",
       "      <td>*** TEST SPILL ***</td>\n",
       "      <td>Onondaga</td>\n",
       "      <td>00000</td>\n",
       "      <td>3415</td>\n",
       "      <td>7</td>\n",
       "      <td>2023-06-06</td>\n",
       "      <td>06/06/2023</td>\n",
       "      <td>Tank Test Failure</td>\n",
       "      <td>NaN</td>\n",
       "      <td>Unknown</td>\n",
       "      <td>07/12/2023</td>\n",
       "      <td>#2 fuel oil (on-site consumption)</td>\n",
       "      <td>Petroleum</td>\n",
       "      <td>0.0</td>\n",
       "      <td>NaN</td>\n",
       "      <td>0.0</td>\n",
       "    </tr>\n",
       "    <tr>\n",
       "      <th>3</th>\n",
       "      <td>2301892</td>\n",
       "      <td>*** TEST SPILL ***</td>\n",
       "      <td>*** TEST SPILL ***</td>\n",
       "      <td>NaN</td>\n",
       "      <td>*** TEST SPILL ***</td>\n",
       "      <td>Onondaga</td>\n",
       "      <td>00000</td>\n",
       "      <td>3415</td>\n",
       "      <td>7</td>\n",
       "      <td>2023-06-06</td>\n",
       "      <td>06/06/2023</td>\n",
       "      <td>Tank Test Failure</td>\n",
       "      <td>NaN</td>\n",
       "      <td>Unknown</td>\n",
       "      <td>07/12/2023</td>\n",
       "      <td>Diesel (E-Gen)</td>\n",
       "      <td>Petroleum</td>\n",
       "      <td>0.0</td>\n",
       "      <td>NaN</td>\n",
       "      <td>0.0</td>\n",
       "    </tr>\n",
       "    <tr>\n",
       "      <th>4</th>\n",
       "      <td>2301892</td>\n",
       "      <td>*** TEST SPILL ***</td>\n",
       "      <td>*** TEST SPILL ***</td>\n",
       "      <td>NaN</td>\n",
       "      <td>*** TEST SPILL ***</td>\n",
       "      <td>Onondaga</td>\n",
       "      <td>00000</td>\n",
       "      <td>3415</td>\n",
       "      <td>7</td>\n",
       "      <td>2023-06-06</td>\n",
       "      <td>06/06/2023</td>\n",
       "      <td>Tank Test Failure</td>\n",
       "      <td>NaN</td>\n",
       "      <td>Unknown</td>\n",
       "      <td>07/12/2023</td>\n",
       "      <td>waste oil/used oil</td>\n",
       "      <td>Petroleum</td>\n",
       "      <td>0.0</td>\n",
       "      <td>NaN</td>\n",
       "      <td>0.0</td>\n",
       "    </tr>\n",
       "  </tbody>\n",
       "</table>\n",
       "</div>"
      ],
      "text/plain": [
       "   spill number program facility name            street 1 street 2  \\\n",
       "0       2301892    *** TEST SPILL ***  *** TEST SPILL ***      NaN   \n",
       "1       2301892    *** TEST SPILL ***  *** TEST SPILL ***      NaN   \n",
       "2       2301892    *** TEST SPILL ***  *** TEST SPILL ***      NaN   \n",
       "3       2301892    *** TEST SPILL ***  *** TEST SPILL ***      NaN   \n",
       "4       2301892    *** TEST SPILL ***  *** TEST SPILL ***      NaN   \n",
       "\n",
       "             locality    county zip code  swis code  dec region spill date  \\\n",
       "0  *** TEST SPILL ***  Onondaga    00000       3415           7 2023-06-06   \n",
       "1  *** TEST SPILL ***  Onondaga    00000       3415           7 2023-06-06   \n",
       "2  *** TEST SPILL ***  Onondaga    00000       3415           7 2023-06-06   \n",
       "3  *** TEST SPILL ***  Onondaga    00000       3415           7 2023-06-06   \n",
       "4  *** TEST SPILL ***  Onondaga    00000       3415           7 2023-06-06   \n",
       "\n",
       "  received date contributing factor waterbody   source  close date  \\\n",
       "0    06/06/2023   Tank Test Failure       NaN  Unknown  07/12/2023   \n",
       "1    06/06/2023   Tank Test Failure       NaN  Unknown  07/12/2023   \n",
       "2    06/06/2023   Tank Test Failure       NaN  Unknown  07/12/2023   \n",
       "3    06/06/2023   Tank Test Failure       NaN  Unknown  07/12/2023   \n",
       "4    06/06/2023   Tank Test Failure       NaN  Unknown  07/12/2023   \n",
       "\n",
       "                             material name material family  quantity    units  \\\n",
       "0                              #2 fuel oil       Petroleum       0.0  Gallons   \n",
       "1  used oil (heating, on-site consumption)       Petroleum       0.0      NaN   \n",
       "2        #2 fuel oil (on-site consumption)       Petroleum       0.0      NaN   \n",
       "3                           Diesel (E-Gen)       Petroleum       0.0      NaN   \n",
       "4                       waste oil/used oil       Petroleum       0.0      NaN   \n",
       "\n",
       "   recovered  \n",
       "0        0.0  \n",
       "1        0.0  \n",
       "2        0.0  \n",
       "3        0.0  \n",
       "4        0.0  "
      ]
     },
     "execution_count": 107,
     "metadata": {},
     "output_type": "execute_result"
    }
   ],
   "source": [
    "# Start with petr_23 and include bullets above\n",
    "\n",
    "# use sort_index() method to order the index\n",
    "petr_23.reset_index(inplace=True, drop=True)\n",
    "\n",
    "#check index has been reset\n",
    "petr_23.head()"
   ]
  },
  {
   "cell_type": "code",
   "execution_count": 108,
   "metadata": {
    "tags": []
   },
   "outputs": [
    {
     "data": {
      "text/html": [
       "<div>\n",
       "<style scoped>\n",
       "    .dataframe tbody tr th:only-of-type {\n",
       "        vertical-align: middle;\n",
       "    }\n",
       "\n",
       "    .dataframe tbody tr th {\n",
       "        vertical-align: top;\n",
       "    }\n",
       "\n",
       "    .dataframe thead th {\n",
       "        text-align: right;\n",
       "    }\n",
       "</style>\n",
       "<table border=\"1\" class=\"dataframe\">\n",
       "  <thead>\n",
       "    <tr style=\"text-align: right;\">\n",
       "      <th></th>\n",
       "      <th>county</th>\n",
       "      <th>n_spills</th>\n",
       "    </tr>\n",
       "  </thead>\n",
       "  <tbody>\n",
       "    <tr>\n",
       "      <th>0</th>\n",
       "      <td>Albany</td>\n",
       "      <td>204</td>\n",
       "    </tr>\n",
       "    <tr>\n",
       "      <th>1</th>\n",
       "      <td>Allegany</td>\n",
       "      <td>30</td>\n",
       "    </tr>\n",
       "    <tr>\n",
       "      <th>2</th>\n",
       "      <td>Bronx</td>\n",
       "      <td>143</td>\n",
       "    </tr>\n",
       "    <tr>\n",
       "      <th>3</th>\n",
       "      <td>Broome</td>\n",
       "      <td>74</td>\n",
       "    </tr>\n",
       "    <tr>\n",
       "      <th>4</th>\n",
       "      <td>Cattaraugus</td>\n",
       "      <td>46</td>\n",
       "    </tr>\n",
       "    <tr>\n",
       "      <th>...</th>\n",
       "      <td>...</td>\n",
       "      <td>...</td>\n",
       "    </tr>\n",
       "    <tr>\n",
       "      <th>59</th>\n",
       "      <td>Washington</td>\n",
       "      <td>96</td>\n",
       "    </tr>\n",
       "    <tr>\n",
       "      <th>60</th>\n",
       "      <td>Wayne</td>\n",
       "      <td>38</td>\n",
       "    </tr>\n",
       "    <tr>\n",
       "      <th>61</th>\n",
       "      <td>Westchester</td>\n",
       "      <td>730</td>\n",
       "    </tr>\n",
       "    <tr>\n",
       "      <th>62</th>\n",
       "      <td>Wyoming</td>\n",
       "      <td>24</td>\n",
       "    </tr>\n",
       "    <tr>\n",
       "      <th>63</th>\n",
       "      <td>Yates</td>\n",
       "      <td>6</td>\n",
       "    </tr>\n",
       "  </tbody>\n",
       "</table>\n",
       "<p>64 rows × 2 columns</p>\n",
       "</div>"
      ],
      "text/plain": [
       "         county  n_spills\n",
       "0        Albany       204\n",
       "1      Allegany        30\n",
       "2         Bronx       143\n",
       "3        Broome        74\n",
       "4   Cattaraugus        46\n",
       "..          ...       ...\n",
       "59   Washington        96\n",
       "60        Wayne        38\n",
       "61  Westchester       730\n",
       "62      Wyoming        24\n",
       "63        Yates         6\n",
       "\n",
       "[64 rows x 2 columns]"
      ]
     },
     "execution_count": 108,
     "metadata": {},
     "output_type": "execute_result"
    }
   ],
   "source": [
    "#group by county\n",
    "\n",
    "spills_per_county = petr_23.groupby('county')['county'].count().reset_index(name='n_spills')\n",
    "\n",
    "spills_per_county"
   ]
  },
  {
   "cell_type": "code",
   "execution_count": 109,
   "metadata": {
    "tags": []
   },
   "outputs": [
    {
     "data": {
      "text/plain": [
       "7124"
      ]
     },
     "execution_count": 109,
     "metadata": {},
     "output_type": "execute_result"
    }
   ],
   "source": [
    "spills_per_county.n_spills.sum()\n"
   ]
  },
  {
   "cell_type": "code",
   "execution_count": null,
   "metadata": {},
   "outputs": [],
   "source": []
  },
  {
   "cell_type": "code",
   "execution_count": null,
   "metadata": {},
   "outputs": [],
   "source": []
  },
  {
   "cell_type": "markdown",
   "metadata": {},
   "source": [
    "## Prepare counties data\n",
    "\n",
    "This section refers to the `counties` geodataframe. \n",
    "Check the outputs carefully, they will give you context about the next exercises.\n",
    "\n",
    "### Exploration\n",
    "\n",
    "In the next cells:\n",
    "\n",
    "1. Check the geo-dataframe's head\n",
    "2. Simplify column names as needed\n",
    "3. Check the data types of the columns\n",
    "4. Check the geo-dataframe's CRS\n",
    "5. Plot the geo-dataframe.\n",
    "\n",
    "You can add any other cells of preliminary data exploration."
   ]
  },
  {
   "cell_type": "code",
   "execution_count": 110,
   "metadata": {
    "tags": []
   },
   "outputs": [
    {
     "data": {
      "text/html": [
       "<div>\n",
       "<style scoped>\n",
       "    .dataframe tbody tr th:only-of-type {\n",
       "        vertical-align: middle;\n",
       "    }\n",
       "\n",
       "    .dataframe tbody tr th {\n",
       "        vertical-align: top;\n",
       "    }\n",
       "\n",
       "    .dataframe thead th {\n",
       "        text-align: right;\n",
       "    }\n",
       "</style>\n",
       "<table border=\"1\" class=\"dataframe\">\n",
       "  <thead>\n",
       "    <tr style=\"text-align: right;\">\n",
       "      <th></th>\n",
       "      <th>STATEFP</th>\n",
       "      <th>COUNTYFP</th>\n",
       "      <th>COUNTYNS</th>\n",
       "      <th>GEOID</th>\n",
       "      <th>NAME</th>\n",
       "      <th>NAMELSAD</th>\n",
       "      <th>LSAD</th>\n",
       "      <th>CLASSFP</th>\n",
       "      <th>MTFCC</th>\n",
       "      <th>CSAFP</th>\n",
       "      <th>CBSAFP</th>\n",
       "      <th>METDIVFP</th>\n",
       "      <th>FUNCSTAT</th>\n",
       "      <th>ALAND</th>\n",
       "      <th>AWATER</th>\n",
       "      <th>INTPTLAT</th>\n",
       "      <th>INTPTLON</th>\n",
       "      <th>geometry</th>\n",
       "    </tr>\n",
       "  </thead>\n",
       "  <tbody>\n",
       "    <tr>\n",
       "      <th>0</th>\n",
       "      <td>31</td>\n",
       "      <td>039</td>\n",
       "      <td>00835841</td>\n",
       "      <td>31039</td>\n",
       "      <td>Cuming</td>\n",
       "      <td>Cuming County</td>\n",
       "      <td>06</td>\n",
       "      <td>H1</td>\n",
       "      <td>G4020</td>\n",
       "      <td>None</td>\n",
       "      <td>None</td>\n",
       "      <td>None</td>\n",
       "      <td>A</td>\n",
       "      <td>1477644346</td>\n",
       "      <td>10691216</td>\n",
       "      <td>+41.9158651</td>\n",
       "      <td>-096.7885168</td>\n",
       "      <td>None</td>\n",
       "    </tr>\n",
       "    <tr>\n",
       "      <th>1</th>\n",
       "      <td>53</td>\n",
       "      <td>069</td>\n",
       "      <td>01513275</td>\n",
       "      <td>53069</td>\n",
       "      <td>Wahkiakum</td>\n",
       "      <td>Wahkiakum County</td>\n",
       "      <td>06</td>\n",
       "      <td>H1</td>\n",
       "      <td>G4020</td>\n",
       "      <td>None</td>\n",
       "      <td>None</td>\n",
       "      <td>None</td>\n",
       "      <td>A</td>\n",
       "      <td>680980770</td>\n",
       "      <td>61564427</td>\n",
       "      <td>+46.2946377</td>\n",
       "      <td>-123.4244583</td>\n",
       "      <td>None</td>\n",
       "    </tr>\n",
       "    <tr>\n",
       "      <th>2</th>\n",
       "      <td>35</td>\n",
       "      <td>011</td>\n",
       "      <td>00933054</td>\n",
       "      <td>35011</td>\n",
       "      <td>De Baca</td>\n",
       "      <td>De Baca County</td>\n",
       "      <td>06</td>\n",
       "      <td>H1</td>\n",
       "      <td>G4020</td>\n",
       "      <td>None</td>\n",
       "      <td>None</td>\n",
       "      <td>None</td>\n",
       "      <td>A</td>\n",
       "      <td>6016818946</td>\n",
       "      <td>29090018</td>\n",
       "      <td>+34.3592729</td>\n",
       "      <td>-104.3686961</td>\n",
       "      <td>None</td>\n",
       "    </tr>\n",
       "  </tbody>\n",
       "</table>\n",
       "</div>"
      ],
      "text/plain": [
       "  STATEFP COUNTYFP  COUNTYNS  GEOID       NAME          NAMELSAD LSAD CLASSFP  \\\n",
       "0      31      039  00835841  31039     Cuming     Cuming County   06      H1   \n",
       "1      53      069  01513275  53069  Wahkiakum  Wahkiakum County   06      H1   \n",
       "2      35      011  00933054  35011    De Baca    De Baca County   06      H1   \n",
       "\n",
       "   MTFCC CSAFP CBSAFP METDIVFP FUNCSTAT       ALAND    AWATER     INTPTLAT  \\\n",
       "0  G4020  None   None     None        A  1477644346  10691216  +41.9158651   \n",
       "1  G4020  None   None     None        A   680980770  61564427  +46.2946377   \n",
       "2  G4020  None   None     None        A  6016818946  29090018  +34.3592729   \n",
       "\n",
       "       INTPTLON geometry  \n",
       "0  -096.7885168     None  \n",
       "1  -123.4244583     None  \n",
       "2  -104.3686961     None  "
      ]
     },
     "execution_count": 110,
     "metadata": {},
     "output_type": "execute_result"
    }
   ],
   "source": [
    "# 1. Use .head() to check 'counties' head\n",
    "counties.head(3)"
   ]
  },
  {
   "cell_type": "code",
   "execution_count": 111,
   "metadata": {
    "tags": []
   },
   "outputs": [],
   "source": [
    "# 2. update column names to small caps\n",
    "counties.columns = counties.columns.str.lower()"
   ]
  },
  {
   "cell_type": "code",
   "execution_count": 112,
   "metadata": {
    "tags": []
   },
   "outputs": [
    {
     "data": {
      "text/plain": [
       "statefp       object\n",
       "countyfp      object\n",
       "countyns      object\n",
       "geoid         object\n",
       "name          object\n",
       "namelsad      object\n",
       "lsad          object\n",
       "classfp       object\n",
       "mtfcc         object\n",
       "csafp         object\n",
       "cbsafp        object\n",
       "metdivfp      object\n",
       "funcstat      object\n",
       "aland          int64\n",
       "awater         int64\n",
       "intptlat      object\n",
       "intptlon      object\n",
       "geometry    geometry\n",
       "dtype: object"
      ]
     },
     "execution_count": 112,
     "metadata": {},
     "output_type": "execute_result"
    }
   ],
   "source": [
    "# 3. check data types of columns using .dtypes\n",
    "counties.dtypes"
   ]
  },
  {
   "cell_type": "code",
   "execution_count": 113,
   "metadata": {
    "tags": []
   },
   "outputs": [
    {
     "data": {
      "text/plain": [
       "<Geographic 2D CRS: EPSG:4269>\n",
       "Name: NAD83\n",
       "Axis Info [ellipsoidal]:\n",
       "- Lat[north]: Geodetic latitude (degree)\n",
       "- Lon[east]: Geodetic longitude (degree)\n",
       "Area of Use:\n",
       "- name: North America - NAD83\n",
       "- bounds: (167.65, 14.92, -47.74, 86.46)\n",
       "Datum: North American Datum 1983\n",
       "- Ellipsoid: GRS 1980\n",
       "- Prime Meridian: Greenwich"
      ]
     },
     "execution_count": 113,
     "metadata": {},
     "output_type": "execute_result"
    }
   ],
   "source": [
    "# 4. check crs\n",
    "counties.crs  #EPSG:4269"
   ]
  },
  {
   "cell_type": "code",
   "execution_count": 114,
   "metadata": {
    "tags": []
   },
   "outputs": [],
   "source": [
    "#add geometry column\n",
    "counties = gpd.GeoDataFrame(counties, # data\n",
    "                                    # specify geometry column\n",
    "                                    geometry=gpd.points_from_xy(counties.intptlon, \n",
    "                                             counties.intptlat),\n",
    "                                    # specify CRS\n",
    "                                    crs='EPSG:4269'\n",
    "                    )"
   ]
  },
  {
   "cell_type": "code",
   "execution_count": 115,
   "metadata": {
    "tags": []
   },
   "outputs": [
    {
     "data": {
      "text/plain": [
       "<AxesSubplot:>"
      ]
     },
     "execution_count": 115,
     "metadata": {},
     "output_type": "execute_result"
    },
    {
     "data": {
      "image/png": "[encoded data removed]",
      "text/plain": [
       "<Figure size 640x480 with 1 Axes>"
      ]
     },
     "metadata": {},
     "output_type": "display_data"
    }
   ],
   "source": [
    "# 5. plot dataframe using plot()\n",
    "counties.plot()"
   ]
  },
  {
   "cell_type": "markdown",
   "metadata": {},
   "source": [
    "### Data selection\n",
    "\n",
    "Select all the counties for the state of New York in a new variable `ny_counties` and plot them. HINT: to find which counties correspond to NY, look at the metadata."
   ]
  },
  {
   "cell_type": "code",
   "execution_count": 116,
   "metadata": {
    "tags": []
   },
   "outputs": [],
   "source": [
    "# select all counties in New York in new variable and plot\n",
    "\n",
    "ny_counties = counties[counties['statefp'] == '36']"
   ]
  },
  {
   "cell_type": "markdown",
   "metadata": {},
   "source": [
    "## Merging\n",
    "\n",
    "The goal of this section is to create a single dataframe with the number of spills per county and the corresponding geometries for each county.\n",
    "\n",
    "### Explore data\n",
    "\n",
    "In the next cells:\n",
    "\n",
    "1. Print the names of counties in `ny_counties`, without repetition.\n",
    "2. Print the names of counties in `spills_per_county`, without repetition. (Do you notice anything?)\n",
    "3. Use the [`numpy` function `setdiff1d()`](https://numpy.org/doc/stable/reference/generated/numpy.setdiff1d.html) to find the county names that are in `spills_per_county`, but not in `ny_counties`. HINT: pay attention to the example in the documentation.\n",
    "4. Find the county names that are in `ny_counties`, but not in `spills_per_county`.\n",
    "5. Check the number of spills in 'Tuscarora Indian Reservation'.\n"
   ]
  },
  {
   "cell_type": "code",
   "execution_count": 117,
   "metadata": {
    "tags": []
   },
   "outputs": [
    {
     "data": {
      "text/plain": [
       "array(['Steuben County', 'Saratoga County', 'Allegany County',\n",
       "       'Oswego County', 'Ulster County', 'St. Lawrence County',\n",
       "       'Schuyler County', 'Essex County', 'Suffolk County',\n",
       "       'Hamilton County', 'Dutchess County', 'Otsego County',\n",
       "       'Tompkins County', 'Albany County', 'Cayuga County',\n",
       "       'Greene County', 'Herkimer County', 'Warren County',\n",
       "       'Jefferson County', 'Clinton County', 'Nassau County',\n",
       "       'Madison County', 'Washington County', 'Westchester County',\n",
       "       'Lewis County', 'Ontario County', 'Cortland County',\n",
       "       'Richmond County', 'Erie County', 'Putnam County',\n",
       "       'Montgomery County', 'Sullivan County', 'Orleans County',\n",
       "       'Oneida County', 'Cattaraugus County', 'Yates County',\n",
       "       'Tioga County', 'Monroe County', 'Schoharie County',\n",
       "       'Broome County', 'Rensselaer County', 'Seneca County',\n",
       "       'Queens County', 'Genesee County', 'Wayne County',\n",
       "       'Niagara County', 'Kings County', 'Chemung County',\n",
       "       'Wyoming County', 'New York County', 'Columbia County',\n",
       "       'Chautauqua County', 'Franklin County', 'Onondaga County',\n",
       "       'Chenango County', 'Fulton County', 'Rockland County',\n",
       "       'Livingston County', 'Delaware County', 'Orange County',\n",
       "       'Schenectady County', 'Bronx County'], dtype=object)"
      ]
     },
     "execution_count": 117,
     "metadata": {},
     "output_type": "execute_result"
    }
   ],
   "source": [
    "# 1. use .unique() to find individual names of counties in 'namelsad' column for ny_counties\n",
    "ny_counties.namelsad.unique()"
   ]
  },
  {
   "cell_type": "code",
   "execution_count": 118,
   "metadata": {
    "tags": []
   },
   "outputs": [
    {
     "data": {
      "text/plain": [
       "62"
      ]
     },
     "execution_count": 118,
     "metadata": {},
     "output_type": "execute_result"
    }
   ],
   "source": [
    "ny_counties.namelsad.count()"
   ]
  },
  {
   "cell_type": "code",
   "execution_count": 119,
   "metadata": {
    "tags": []
   },
   "outputs": [
    {
     "data": {
      "text/plain": [
       "array(['Albany', 'Allegany', 'Bronx', 'Broome', 'Cattaraugus', 'Cayuga',\n",
       "       'Chautauqua', 'Chemung', 'Chenango', 'Clinton', 'Columbia',\n",
       "       'Cortland', 'Delaware', 'Dutchess', 'Erie', 'Essex', 'Franklin',\n",
       "       'Fulton', 'Genesee', 'Greene', 'Hamilton', 'Herkimer', 'Jefferson',\n",
       "       'Kings', 'Lewis', 'Livingston', 'Madison', 'Monroe', 'Montgomery',\n",
       "       'Nassau', 'New Jersey - Region 2', 'New York', 'Niagara', 'Oneida',\n",
       "       'Onondaga', 'Ontario', 'Orange', 'Orleans', 'Oswego', 'Otsego',\n",
       "       'Putnam', 'Queens', 'Rensselaer', 'Richmond', 'Rockland',\n",
       "       'Saratoga', 'Schenectady', 'Schoharie', 'Schuyler', 'Seneca',\n",
       "       'St Lawrence', 'Steuben', 'Suffolk', 'Sullivan', 'Tioga',\n",
       "       'Tompkins', 'Tuscarora Indian Reservation', 'Ulster', 'Warren',\n",
       "       'Washington', 'Wayne', 'Westchester', 'Wyoming', 'Yates'],\n",
       "      dtype=object)"
      ]
     },
     "execution_count": 119,
     "metadata": {},
     "output_type": "execute_result"
    }
   ],
   "source": [
    "# 2. use .unique() to find individual names of counties in 'namelsad' column for spills_per_county\n",
    "spills_per_county.county.unique()"
   ]
  },
  {
   "cell_type": "code",
   "execution_count": 120,
   "metadata": {
    "tags": []
   },
   "outputs": [
    {
     "data": {
      "text/plain": [
       "64"
      ]
     },
     "execution_count": 120,
     "metadata": {},
     "output_type": "execute_result"
    }
   ],
   "source": [
    "spills_per_county.county.count()"
   ]
  },
  {
   "cell_type": "code",
   "execution_count": 121,
   "metadata": {
    "tags": []
   },
   "outputs": [
    {
     "data": {
      "text/plain": [
       "array([204, 30, 143, 74, 46, 26, 54, 31, 37, 52, 60, 35, 40, 156, 279, 56,\n",
       "       41, 32, 50, 39, 9, 56, 108, 176, 41, 59, 40, 254, 62, 569,\n",
       "       'New Jersey - Region 2', 6, 172, 88, 107, 195, 66, 328, 15, 68, 34,\n",
       "       118, 320, 105, 52, 160, 158, 76, 32, 11, 25, 'St Lawrence', 65, 72,\n",
       "       716, 83, 28, 36, 'Tuscarora Indian Reservation', 1, 158, 76, 96,\n",
       "       38, 730, 24, 6], dtype=object)"
      ]
     },
     "execution_count": 121,
     "metadata": {},
     "output_type": "execute_result"
    }
   ],
   "source": [
    "# 3.\n",
    "np.setdiff1d(spills_per_county, ny_counties, assume_unique=True)"
   ]
  },
  {
   "cell_type": "code",
   "execution_count": 122,
   "metadata": {
    "tags": []
   },
   "outputs": [
    {
     "data": {
      "text/plain": [
       "array(['36', '101', '00974148', ..., '+40.8487111', '-073.8529390',\n",
       "       <POINT (-73.9 40.8)>], dtype=object)"
      ]
     },
     "execution_count": 122,
     "metadata": {},
     "output_type": "execute_result"
    }
   ],
   "source": [
    "# 4.\n",
    "np.setdiff1d(ny_counties, spills_per_county, assume_unique=True)"
   ]
  },
  {
   "cell_type": "code",
   "execution_count": 123,
   "metadata": {
    "tags": []
   },
   "outputs": [
    {
     "data": {
      "text/plain": [
       "56    1\n",
       "Name: n_spills, dtype: int64"
      ]
     },
     "execution_count": 123,
     "metadata": {},
     "output_type": "execute_result"
    }
   ],
   "source": [
    "# 5. \n",
    "spills_per_county[spills_per_county.county == 'Tuscarora Indian Reservation'].n_spills"
   ]
  },
  {
   "cell_type": "markdown",
   "metadata": {},
   "source": [
    "### Data updates\n",
    "\n",
    "In this section we will update 'St Lawrence' to 'St. Lawrence' in `spills_per_county` data frame.\n",
    "\n",
    "In the next cells:\n",
    "1. Check the row in `spills_per_county` that has 'St Lawrence'\n",
    "2. Run the code and read the explanation in the comments\n",
    "3. Run the code and read the explanation in the comments\n",
    "4. Use the `st_lawrence_index` and `at` to update St Lawrence name in `spills_per_county` dataframe\n",
    "5. Check the update was successfull"
   ]
  },
  {
   "cell_type": "code",
   "execution_count": 124,
   "metadata": {
    "tags": []
   },
   "outputs": [
    {
     "data": {
      "text/html": [
       "<div>\n",
       "<style scoped>\n",
       "    .dataframe tbody tr th:only-of-type {\n",
       "        vertical-align: middle;\n",
       "    }\n",
       "\n",
       "    .dataframe tbody tr th {\n",
       "        vertical-align: top;\n",
       "    }\n",
       "\n",
       "    .dataframe thead th {\n",
       "        text-align: right;\n",
       "    }\n",
       "</style>\n",
       "<table border=\"1\" class=\"dataframe\">\n",
       "  <thead>\n",
       "    <tr style=\"text-align: right;\">\n",
       "      <th></th>\n",
       "      <th>county</th>\n",
       "      <th>n_spills</th>\n",
       "    </tr>\n",
       "  </thead>\n",
       "  <tbody>\n",
       "    <tr>\n",
       "      <th>50</th>\n",
       "      <td>St Lawrence</td>\n",
       "      <td>65</td>\n",
       "    </tr>\n",
       "  </tbody>\n",
       "</table>\n",
       "</div>"
      ],
      "text/plain": [
       "         county  n_spills\n",
       "50  St Lawrence        65"
      ]
     },
     "execution_count": 124,
     "metadata": {},
     "output_type": "execute_result"
    }
   ],
   "source": [
    "# 1. \n",
    "spills_per_county[spills_per_county.county=='St Lawrence']"
   ]
  },
  {
   "cell_type": "code",
   "execution_count": 125,
   "metadata": {
    "tags": []
   },
   "outputs": [
    {
     "data": {
      "text/plain": [
       "Int64Index([50], dtype='int64')"
      ]
     },
     "execution_count": 125,
     "metadata": {},
     "output_type": "execute_result"
    }
   ],
   "source": [
    "# 2. we can get the index of that single row like this, to access the actual row index...\n",
    "spills_per_county[spills_per_county.county=='St Lawrence'].index"
   ]
  },
  {
   "cell_type": "code",
   "execution_count": 126,
   "metadata": {
    "tags": []
   },
   "outputs": [
    {
     "data": {
      "text/plain": [
       "50"
      ]
     },
     "execution_count": 126,
     "metadata": {},
     "output_type": "execute_result"
    }
   ],
   "source": [
    "# 3. we need to select the first item in that tuple using [0]\n",
    "st_lawrence_index = spills_per_county[spills_per_county.county=='St Lawrence'].index[0]\n",
    "st_lawrence_index"
   ]
  },
  {
   "cell_type": "code",
   "execution_count": 127,
   "metadata": {
    "tags": []
   },
   "outputs": [],
   "source": [
    "# 4. \n",
    "spills_per_county.at[st_lawrence_index,'county'] = 'St. Lawrence'"
   ]
  },
  {
   "cell_type": "code",
   "execution_count": 128,
   "metadata": {
    "tags": []
   },
   "outputs": [
    {
     "data": {
      "text/plain": [
       "array(['Albany', 'Allegany', 'Bronx', 'Broome', 'Cattaraugus', 'Cayuga',\n",
       "       'Chautauqua', 'Chemung', 'Chenango', 'Clinton', 'Columbia',\n",
       "       'Cortland', 'Delaware', 'Dutchess', 'Erie', 'Essex', 'Franklin',\n",
       "       'Fulton', 'Genesee', 'Greene', 'Hamilton', 'Herkimer', 'Jefferson',\n",
       "       'Kings', 'Lewis', 'Livingston', 'Madison', 'Monroe', 'Montgomery',\n",
       "       'Nassau', 'New Jersey - Region 2', 'New York', 'Niagara', 'Oneida',\n",
       "       'Onondaga', 'Ontario', 'Orange', 'Orleans', 'Oswego', 'Otsego',\n",
       "       'Putnam', 'Queens', 'Rensselaer', 'Richmond', 'Rockland',\n",
       "       'Saratoga', 'Schenectady', 'Schoharie', 'Schuyler', 'Seneca',\n",
       "       'St. Lawrence', 'Steuben', 'Suffolk', 'Sullivan', 'Tioga',\n",
       "       'Tompkins', 'Tuscarora Indian Reservation', 'Ulster', 'Warren',\n",
       "       'Washington', 'Wayne', 'Westchester', 'Wyoming', 'Yates'],\n",
       "      dtype=object)"
      ]
     },
     "execution_count": 128,
     "metadata": {},
     "output_type": "execute_result"
    }
   ],
   "source": [
    "# 5.\n",
    "spills_per_county.county.unique()"
   ]
  },
  {
   "cell_type": "markdown",
   "metadata": {},
   "source": [
    "### Merge\n",
    "\n",
    "In the following cells:\n",
    "1. Use this cell to make any other updates needed for making an inner join of the `spills_per_county` and `ny_counties`. \n",
    "2. Over-write `ny_counties` as the  inner join of the `spills_per_county` and `ny_counties` dataframes.\n",
    "\n",
    "From our previous exploration we know that Tuscarora Indian Reservation will not be in the join. Tuscarora Indian Reservation is located within Niagara county. \n",
    "\n",
    "3. Since the Tuscarora Indian Reservation does not appear in the `ny_counties` dataframe, add one spill to Niagara county. We will add a note about this in our final map. Add the cells you need to make this update **and** verify that the dataframe was updated."
   ]
  },
  {
   "cell_type": "code",
   "execution_count": 129,
   "metadata": {
    "tags": []
   },
   "outputs": [],
   "source": [
    "# 1. Update the 'name' column in ny_counties so that it matches with 'county' in spills_per_county\n",
    "\n",
    "ny_counties = ny_counties.rename(columns = {'name' : 'county'})\n",
    "\n",
    "ny_counties = ny_counties[['county', 'geometry', 'statefp']]\n"
   ]
  },
  {
   "cell_type": "code",
   "execution_count": 130,
   "metadata": {
    "tags": []
   },
   "outputs": [
    {
     "data": {
      "text/html": [
       "<div>\n",
       "<style scoped>\n",
       "    .dataframe tbody tr th:only-of-type {\n",
       "        vertical-align: middle;\n",
       "    }\n",
       "\n",
       "    .dataframe tbody tr th {\n",
       "        vertical-align: top;\n",
       "    }\n",
       "\n",
       "    .dataframe thead th {\n",
       "        text-align: right;\n",
       "    }\n",
       "</style>\n",
       "<table border=\"1\" class=\"dataframe\">\n",
       "  <thead>\n",
       "    <tr style=\"text-align: right;\">\n",
       "      <th></th>\n",
       "      <th>n_spills</th>\n",
       "      <th>geometry</th>\n",
       "      <th>statefp</th>\n",
       "    </tr>\n",
       "    <tr>\n",
       "      <th>county</th>\n",
       "      <th></th>\n",
       "      <th></th>\n",
       "      <th></th>\n",
       "    </tr>\n",
       "  </thead>\n",
       "  <tbody>\n",
       "    <tr>\n",
       "      <th>Albany</th>\n",
       "      <td>204</td>\n",
       "      <td>POINT (-73.97401 42.58824)</td>\n",
       "      <td>36</td>\n",
       "    </tr>\n",
       "    <tr>\n",
       "      <th>Allegany</th>\n",
       "      <td>30</td>\n",
       "      <td>POINT (-78.02615 42.24785)</td>\n",
       "      <td>36</td>\n",
       "    </tr>\n",
       "    <tr>\n",
       "      <th>Bronx</th>\n",
       "      <td>143</td>\n",
       "      <td>POINT (-73.85294 40.84871)</td>\n",
       "      <td>36</td>\n",
       "    </tr>\n",
       "    <tr>\n",
       "      <th>Broome</th>\n",
       "      <td>74</td>\n",
       "      <td>POINT (-75.83028 42.16198)</td>\n",
       "      <td>36</td>\n",
       "    </tr>\n",
       "    <tr>\n",
       "      <th>Cattaraugus</th>\n",
       "      <td>46</td>\n",
       "      <td>POINT (-78.66233 42.23910)</td>\n",
       "      <td>36</td>\n",
       "    </tr>\n",
       "    <tr>\n",
       "      <th>...</th>\n",
       "      <td>...</td>\n",
       "      <td>...</td>\n",
       "      <td>...</td>\n",
       "    </tr>\n",
       "    <tr>\n",
       "      <th>Washington</th>\n",
       "      <td>96</td>\n",
       "      <td>POINT (-73.43943 43.31238)</td>\n",
       "      <td>36</td>\n",
       "    </tr>\n",
       "    <tr>\n",
       "      <th>Wayne</th>\n",
       "      <td>38</td>\n",
       "      <td>POINT (-77.04940 43.21811)</td>\n",
       "      <td>36</td>\n",
       "    </tr>\n",
       "    <tr>\n",
       "      <th>Westchester</th>\n",
       "      <td>730</td>\n",
       "      <td>POINT (-73.74575 41.15269)</td>\n",
       "      <td>36</td>\n",
       "    </tr>\n",
       "    <tr>\n",
       "      <th>Wyoming</th>\n",
       "      <td>24</td>\n",
       "      <td>POINT (-78.22857 42.70136)</td>\n",
       "      <td>36</td>\n",
       "    </tr>\n",
       "    <tr>\n",
       "      <th>Yates</th>\n",
       "      <td>6</td>\n",
       "      <td>POINT (-77.10432 42.63824)</td>\n",
       "      <td>36</td>\n",
       "    </tr>\n",
       "  </tbody>\n",
       "</table>\n",
       "<p>62 rows × 3 columns</p>\n",
       "</div>"
      ],
      "text/plain": [
       "             n_spills                    geometry statefp\n",
       "county                                                   \n",
       "Albany            204  POINT (-73.97401 42.58824)      36\n",
       "Allegany           30  POINT (-78.02615 42.24785)      36\n",
       "Bronx             143  POINT (-73.85294 40.84871)      36\n",
       "Broome             74  POINT (-75.83028 42.16198)      36\n",
       "Cattaraugus        46  POINT (-78.66233 42.23910)      36\n",
       "...               ...                         ...     ...\n",
       "Washington         96  POINT (-73.43943 43.31238)      36\n",
       "Wayne              38  POINT (-77.04940 43.21811)      36\n",
       "Westchester       730  POINT (-73.74575 41.15269)      36\n",
       "Wyoming            24  POINT (-78.22857 42.70136)      36\n",
       "Yates               6  POINT (-77.10432 42.63824)      36\n",
       "\n",
       "[62 rows x 3 columns]"
      ]
     },
     "execution_count": 130,
     "metadata": {},
     "output_type": "execute_result"
    }
   ],
   "source": [
    "# 2.\n",
    "ny_counties = pd.merge(spills_per_county,\n",
    "                      ny_counties,\n",
    "                      how = 'inner',\n",
    "                      on = 'county')\n",
    "\n",
    "#update index\n",
    "ny_counties = ny_counties.set_index('county')\n",
    "ny_counties"
   ]
  },
  {
   "cell_type": "code",
   "execution_count": 131,
   "metadata": {
    "tags": []
   },
   "outputs": [
    {
     "name": "stdout",
     "output_type": "stream",
     "text": [
      "         n_spills                    geometry statefp\n",
      "county                                               \n",
      "Niagara        88  POINT (-78.81294 43.27267)      36\n"
     ]
    }
   ],
   "source": [
    "print(ny_counties.loc[['Niagara']])"
   ]
  },
  {
   "cell_type": "code",
   "execution_count": 132,
   "metadata": {
    "tags": []
   },
   "outputs": [],
   "source": [
    "#3 add value of one to niagara n_spills\n",
    "\n",
    "ny_counties.at['Niagara', 'n_spills'] += 1"
   ]
  },
  {
   "cell_type": "code",
   "execution_count": 133,
   "metadata": {
    "tags": []
   },
   "outputs": [
    {
     "name": "stdout",
     "output_type": "stream",
     "text": [
      "         n_spills                    geometry statefp\n",
      "county                                               \n",
      "Niagara        89  POINT (-78.81294 43.27267)      36\n"
     ]
    }
   ],
   "source": [
    "print(ny_counties.loc[['Niagara']])"
   ]
  },
  {
   "cell_type": "markdown",
   "metadata": {},
   "source": [
    "## Map\n",
    "Create a choropleth map of the number of petroleum spills per county in the state of New York in 2023. \n",
    "Your map should have (at least) the following updates:\n",
    "- a legend indicating the number of spills\n",
    "- an updated color map\n",
    "- a title \n",
    "- no axis\n",
    "- an annotation with the data source (New York State Department of Environmental Conservation), date of access HINT: check the graph we did for power plants, \n",
    "- an annotation indicating one spill occurred in Tuscarora Indian Reservation within Niagara county"
   ]
  },
  {
   "cell_type": "markdown",
   "metadata": {},
   "source": [
    "Tuscarora Indian Reservation in Niagara county"
   ]
  },
  {
   "cell_type": "code",
   "execution_count": 28,
   "metadata": {},
   "outputs": [],
   "source": [
    "# your code here\n",
    "\n",
    "ny_counties.n_spills\n",
    "\n",
    "# remove axis around map\n",
    "ax.axis('off')"
   ]
  },
  {
   "cell_type": "markdown",
   "metadata": {},
   "source": [
    "## Final code\n",
    "\n",
    "Collect all the relevant code into the first blank cell of the notebook titled \"FINAL CODE\". This single cell will have the end-to-end workflow: from importing libraries and loading the data, to producing the graph. The *only* ouput of this cell should be the graph you produced in the previous exercise. For each line, add a single comment explaining what the code does."
   ]
  }
 ],
 "metadata": {
  "kernelspec": {
   "display_name": "Anaconda 3 (Base)",
   "language": "python",
   "name": "base"
  },
  "language_info": {
   "codemirror_mode": {
    "name": "ipython",
    "version": 3
   },
   "file_extension": ".py",
   "mimetype": "text/x-python",
   "name": "python",
   "nbconvert_exporter": "python",
   "pygments_lexer": "ipython3",
   "version": "3.9.13"
  },
  "vscode": {
   "interpreter": {
    "hash": "fd47fb98a7ce7f6a10c657f2a810bfb9d752313f8f3dd9c5b44bfbb724ce30e0"
   }
  }
 },
 "nbformat": 4,
 "nbformat_minor": 4
}
